{
 "cells": [
  {
   "cell_type": "code",
   "execution_count": 4,
   "metadata": {},
   "outputs": [],
   "source": [
    "from IPython.core.display import display, HTML, Markdown\n",
    "\n",
    "# Render a div with provided CSS and class name\n",
    "# css - string with the CSS to pass to the HTML (without class names\n",
    "#       or curly brackets)\n",
    "# css_class - string with the CSS class name\n",
    "# n - integer, suffix added to the class name so that the class names \n",
    "#     don't clash, if none provided defaults to 0 and no suffix is added\n",
    "def render_html(css, css_class, n=0):\n",
    "    if n != 0:\n",
    "        css_class = f'{css_class}-{n}'\n",
    "    display(HTML(f'<style>\\n.{css_class} {{{css}}}\\n</style><div class=\"{css_class}\"><div>'))\n",
    "\n",
    "# Write out CSS as Markdown and render a div with provided CSS and class name \n",
    "# css - string with the CSS to pass to the HTML (without class names\n",
    "#       or curly brackets)\n",
    "# css_class - string with the CSS class name\n",
    "# n - integer, suffix added to the class name so that the class names \n",
    "#     don't clash, if none provided defaults to 0 and no suffix is added\n",
    "def render(css, css_class, n=0):\n",
    "    display(Markdown(f'```\\n.{css_class} {{{css}}}\\n```'))\n",
    "    render_html(css, css_class, n)"
   ]
  },
  {
   "cell_type": "markdown",
   "metadata": {},
   "source": [
    "# This is a Markdown cell\n",
    "\n",
    "This will be included in the exported .md file."
   ]
  },
  {
   "cell_type": "code",
   "execution_count": 55,
   "metadata": {},
   "outputs": [
    {
     "data": {
      "text/html": [
       "<style>\n",
       ".box-1 {\n",
       "    background-color: red;\n",
       "    height: 100px;\n",
       "    width: 200px;\n",
       "}\n",
       "</style><div class=\"box-1\"><div>"
      ],
      "text/plain": [
       "<IPython.core.display.HTML object>"
      ]
     },
     "metadata": {},
     "output_type": "display_data"
    }
   ],
   "source": [
    "# This is a code cell\n",
    "# This will not be included in the exported .md file.\n",
    "\n",
    "css = '''\n",
    "    background-color: red;\n",
    "    height: 100px;\n",
    "    width: 200px;\n",
    "'''\n",
    "\n",
    "# render(css, 'box', 1)\n",
    "render_html(css, 'box', 1)"
   ]
  },
  {
   "cell_type": "code",
   "execution_count": 56,
   "metadata": {},
   "outputs": [
    {
     "data": {
      "text/html": [
       "<style>\n",
       ".box-2 {\n",
       "    background-color: blue;\n",
       "    height: 100px;\n",
       "    width: 200px;\n",
       "}\n",
       "</style><div class=\"box-2\"><div>"
      ],
      "text/plain": [
       "<IPython.core.display.HTML object>"
      ]
     },
     "metadata": {},
     "output_type": "display_data"
    }
   ],
   "source": [
    "css = '''\n",
    "    background-color: blue;\n",
    "    height: 100px;\n",
    "    width: 200px;\n",
    "'''\n",
    "\n",
    "# render(css, 'box', 2)\n",
    "render_html(css, 'box', 2)"
   ]
  },
  {
   "cell_type": "code",
   "execution_count": 3,
   "metadata": {},
   "outputs": [
    {
     "data": {
      "text/html": [
       "<style>\n",
       ".zigzag {\n",
       "    /* offset by 30px to the left */\n",
       "    background: \n",
       "        linear-gradient(\n",
       "          to top left,\n",
       "          gray 24%,\n",
       "          transparent 25%\n",
       "        ) -30px 0 / 240px 120px,\n",
       "        linear-gradient(\n",
       "          to bottom left,\n",
       "          gray 24%,\n",
       "          transparent 25%\n",
       "        ) -30px 120px / 240px 120px,\n",
       "\n",
       "        linear-gradient(\n",
       "          to top right,\n",
       "          red 24%,\n",
       "          transparent 25%\n",
       "        ) 90px -60px / 240px 120px,\n",
       "        linear-gradient(\n",
       "          to bottom right,\n",
       "          red 24%,\n",
       "          transparent 25%\n",
       "        ) 90px 60px / 240px 120px,\n",
       "\n",
       "        linear-gradient(\n",
       "          to top left,\n",
       "          red 24%,\n",
       "          transparent 25%\n",
       "        ) -150px 0 / 240px 120px,\n",
       "        linear-gradient(\n",
       "          to bottom left,\n",
       "          red 24%,\n",
       "          transparent 25%\n",
       "        ) -150px 120px / 240px 120px,\n",
       "\n",
       "        linear-gradient(\n",
       "          to top right,\n",
       "          gray 24%,\n",
       "          transparent 25%\n",
       "        ) -30px -60px / 240px 120px,\n",
       "        linear-gradient(\n",
       "          to bottom right,\n",
       "          gray 24%,\n",
       "          transparent 25%\n",
       "        ) -30px 60px / 240px 120px;\n",
       "\n",
       "    height: 300px;\n",
       "}\n",
       "</style><div class=\"zigzag\"><div>"
      ],
      "text/plain": [
       "<IPython.core.display.HTML object>"
      ]
     },
     "metadata": {},
     "output_type": "display_data"
    }
   ],
   "source": [
    "# A more complex example of a gradient pattern background\n",
    "\n",
    "left_gray = '''\n",
    "        linear-gradient(\n",
    "          to top right,\n",
    "          gray 24%,\n",
    "          transparent 25%\n",
    "        ) -30px -60px / 240px 120px,\n",
    "        linear-gradient(\n",
    "          to bottom right,\n",
    "          gray 24%,\n",
    "          transparent 25%\n",
    "        ) -30px 60px / 240px 120px;\n",
    "'''\n",
    "\n",
    "right_red = '''\n",
    "        linear-gradient(\n",
    "          to top left,\n",
    "          red 24%,\n",
    "          transparent 25%\n",
    "        ) -150px 0 / 240px 120px,\n",
    "        linear-gradient(\n",
    "          to bottom left,\n",
    "          red 24%,\n",
    "          transparent 25%\n",
    "        ) -150px 120px / 240px 120px,\n",
    "'''\n",
    "\n",
    "right_gray = '''\n",
    "        linear-gradient(\n",
    "          to top right,\n",
    "          red 24%,\n",
    "          transparent 25%\n",
    "        ) 90px -60px / 240px 120px,\n",
    "        linear-gradient(\n",
    "          to bottom right,\n",
    "          red 24%,\n",
    "          transparent 25%\n",
    "        ) 90px 60px / 240px 120px,\n",
    "'''\n",
    "\n",
    "left_red = '''\n",
    "        linear-gradient(\n",
    "          to top left,\n",
    "          gray 24%,\n",
    "          transparent 25%\n",
    "        ) -30px 0 / 240px 120px,\n",
    "        linear-gradient(\n",
    "          to bottom left,\n",
    "          gray 24%,\n",
    "          transparent 25%\n",
    "        ) -30px 120px / 240px 120px,\n",
    "'''\n",
    "\n",
    "css = f'''\n",
    "    /* offset by 30px to the left */\n",
    "    background: {left_red}{right_gray}{right_red}{left_gray}\n",
    "    height: 300px;\n",
    "'''\n",
    "\n",
    "# render(css, 'zigzag')\n",
    "render_html(css, 'zigzag')"
   ]
  },
  {
   "cell_type": "code",
   "execution_count": null,
   "metadata": {},
   "outputs": [],
   "source": []
  }
 ],
 "metadata": {
  "kernelspec": {
   "display_name": "Python 3",
   "language": "python",
   "name": "python3"
  },
  "language_info": {
   "codemirror_mode": {
    "name": "ipython",
    "version": 3
   },
   "file_extension": ".py",
   "mimetype": "text/x-python",
   "name": "python",
   "nbconvert_exporter": "python",
   "pygments_lexer": "ipython3",
   "version": "3.7.2"
  }
 },
 "nbformat": 4,
 "nbformat_minor": 2
}
